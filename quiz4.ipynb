{
 "cells": [
  {
   "cell_type": "markdown",
   "metadata": {},
   "source": [
    "# Quiz 2\n",
    "\n",
    "**Author:**"
   ]
  },
  {
   "cell_type": "markdown",
   "metadata": {},
   "source": [
    "**Exercise 1:** import tables and initial analysis of the data. We are working with a dataset of vehicle models which contains two tables: ```names.csv``` and ```features.csv```.\n",
    "\n",
    "1. Import both tables ```names.csv``` and ```features.csv```\n",
    "\n",
    "2. Print the columns from both tables. \n",
    "\n",
    "3. Provide a description for the features table including count, mean, std, min, 25%, 50%, 75% and max. \n",
    "\n",
    "4. Do you see any columns in any of the two tables that are irrelevant for the analysis? Please specify the name of those columns if they exist and explain why they are not useful.\n",
    "\n",
    "5. Create a new DataFrame with only the relevant characteristics in the features table (*hint:* you can use the square brackets notation to filter columns)."
   ]
  },
  {
   "cell_type": "code",
   "execution_count": null,
   "metadata": {},
   "outputs": [],
   "source": []
  },
  {
   "cell_type": "markdown",
   "metadata": {},
   "source": [
    "**Exercise 2:** merging the two tables.\n",
    "\n",
    "1. What column can we use to merge the two tables? Explain why we can use that column. \n",
    "\n",
    "- I will refer to the column you can use to merge as *index* for the following questions, but you should answer the exercises using the actual name of the merging variable.\n",
    "\n",
    "2. How many unique values of the *idex* are there in each of the tables? (*hint:* you can use the pandas method ```Series.unique()```)\n",
    "\n",
    "3. Does the resulting table of merging ```names.csv``` and ```features.csv``` change when you change the option ```how``` to ```'left'```, ```'right'``` and ```'inner'```? Why? \n",
    "\n",
    "4. Create a new DataFrame by merging the ```names.csv``` and ```features.csv``` tables. Print the new set of columns and the number of rows.\n",
    "\n"
   ]
  },
  {
   "cell_type": "code",
   "execution_count": null,
   "metadata": {},
   "outputs": [],
   "source": []
  },
  {
   "cell_type": "markdown",
   "metadata": {},
   "source": [
    "**Exercise 3:** analysis of the merged DataFrame.\n",
    "\n",
    "1. Use **Boolean Indexing** (lecture 14) to answer the following question. What are the names of the vehicle with highest mpg, weight, acceleration?\n",
    "\n",
    "    *hint:* use ```DataFrame.loc[DataFrame['variable_name']==max(DataFrame['variable_name']), 'name_you_want_to_print']```\n",
    "\n",
    "2. Do you need to use the ```loc``` method for the previous question? Why?\n",
    "\n",
    "3. Using groupby, create a table showing the average mpg, minimum weight, average acceleration and maximum cylinders by the model of the car.\n",
    "\n",
    "4. What can you conclude about the average mpg and acceleration for different models?"
   ]
  },
  {
   "cell_type": "code",
   "execution_count": null,
   "metadata": {},
   "outputs": [],
   "source": []
  }
 ],
 "metadata": {
  "kernelspec": {
   "display_name": "Python 3.9.0 ('multilayer')",
   "language": "python",
   "name": "python3"
  },
  "language_info": {
   "codemirror_mode": {
    "name": "ipython",
    "version": 3
   },
   "file_extension": ".py",
   "mimetype": "text/x-python",
   "name": "python",
   "nbconvert_exporter": "python",
   "pygments_lexer": "ipython3",
   "version": "3.9.0"
  },
  "orig_nbformat": 4,
  "vscode": {
   "interpreter": {
    "hash": "11838f79d2aaadbfa3a2adfaf35bacdebdb4e8d9b63957ddf298964812544a76"
   }
  }
 },
 "nbformat": 4,
 "nbformat_minor": 2
}
